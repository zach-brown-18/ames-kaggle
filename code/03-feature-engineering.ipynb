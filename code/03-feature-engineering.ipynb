{
 "cells": [
  {
   "cell_type": "code",
   "execution_count": 19,
   "metadata": {},
   "outputs": [],
   "source": [
    "import pandas as pd\n",
    "import numpy as np\n",
    "from sklearn.preprocessing import PolynomialFeatures"
   ]
  },
  {
   "cell_type": "code",
   "execution_count": 20,
   "metadata": {},
   "outputs": [],
   "source": [
    "train = pd.read_csv('../datasets/clean/train_clean.csv')\n",
    "test = pd.read_csv('../datasets/clean/test_clean.csv')"
   ]
  },
  {
   "cell_type": "markdown",
   "metadata": {},
   "source": [
    "## Create polynomial features"
   ]
  },
  {
   "cell_type": "code",
   "execution_count": 21,
   "metadata": {},
   "outputs": [],
   "source": [
    "# Identify non-dummy columns for potential polynomial features \n",
    "p_features = []\n",
    "for col in train:\n",
    "    if (len(train[col].unique()) > 2) & (col != 'SalePrice'):\n",
    "        p_features.append(col)"
   ]
  },
  {
   "cell_type": "code",
   "execution_count": 22,
   "metadata": {},
   "outputs": [
    {
     "data": {
      "text/plain": [
       "['2nd Flr SF',\n",
       " '3Ssn Porch',\n",
       " 'Bedroom AbvGr',\n",
       " 'Bsmt Cond',\n",
       " 'Bsmt Full Bath',\n",
       " 'Bsmt Half Bath',\n",
       " 'Bsmt Qual',\n",
       " 'Bsmt Unf SF',\n",
       " 'BsmtFin SF 1',\n",
       " 'BsmtFin SF 2',\n",
       " 'Enclosed Porch',\n",
       " 'Exter Cond',\n",
       " 'Fireplaces',\n",
       " 'Full Bath',\n",
       " 'Garage Area',\n",
       " 'Garage Qual',\n",
       " 'Gr Liv Area',\n",
       " 'Half Bath',\n",
       " 'Heating QC',\n",
       " 'Kitchen AbvGr',\n",
       " 'Kitchen Qual',\n",
       " 'Lot Frontage',\n",
       " 'Low Qual Fin SF',\n",
       " 'Mas Vnr Area',\n",
       " 'Misc Val',\n",
       " 'Mo Sold',\n",
       " 'Open Porch SF',\n",
       " 'Overall Cond',\n",
       " 'Overall Qual',\n",
       " 'Screen Porch',\n",
       " 'Total Bsmt SF',\n",
       " 'Wood Deck SF',\n",
       " 'Yr Sold']"
      ]
     },
     "execution_count": 22,
     "metadata": {},
     "output_type": "execute_result"
    }
   ],
   "source": [
    "p_features"
   ]
  },
  {
   "cell_type": "code",
   "execution_count": 23,
   "metadata": {},
   "outputs": [],
   "source": [
    "# Select the most likely culprits\n",
    "p_features = ['Gr Liv Area', 'Full Bath', 'Kitchen Qual', 'Mo Sold', 'Yr Sold', 'Lot Frontage', 'Overall Qual', 'Mas Vnr Area', 'Total Bsmt SF', 'Heating QC']"
   ]
  },
  {
   "cell_type": "code",
   "execution_count": 24,
   "metadata": {},
   "outputs": [
    {
     "data": {
      "text/html": [
       "<div>\n",
       "<style scoped>\n",
       "    .dataframe tbody tr th:only-of-type {\n",
       "        vertical-align: middle;\n",
       "    }\n",
       "\n",
       "    .dataframe tbody tr th {\n",
       "        vertical-align: top;\n",
       "    }\n",
       "\n",
       "    .dataframe thead th {\n",
       "        text-align: right;\n",
       "    }\n",
       "</style>\n",
       "<table border=\"1\" class=\"dataframe\">\n",
       "  <thead>\n",
       "    <tr style=\"text-align: right;\">\n",
       "      <th></th>\n",
       "      <th>Gr Liv Area</th>\n",
       "      <th>Full Bath</th>\n",
       "      <th>Kitchen Qual</th>\n",
       "      <th>Mo Sold</th>\n",
       "      <th>Yr Sold</th>\n",
       "      <th>Lot Frontage</th>\n",
       "      <th>Overall Qual</th>\n",
       "      <th>Mas Vnr Area</th>\n",
       "      <th>Total Bsmt SF</th>\n",
       "      <th>Heating QC</th>\n",
       "      <th>...</th>\n",
       "      <th>Overall Qual Mas Vnr Area</th>\n",
       "      <th>Overall Qual Total Bsmt SF</th>\n",
       "      <th>Overall Qual Heating QC</th>\n",
       "      <th>Mas Vnr Area^2</th>\n",
       "      <th>Mas Vnr Area Total Bsmt SF</th>\n",
       "      <th>Mas Vnr Area Heating QC</th>\n",
       "      <th>Total Bsmt SF^2</th>\n",
       "      <th>Total Bsmt SF Heating QC</th>\n",
       "      <th>Heating QC^2</th>\n",
       "      <th>SalePrice</th>\n",
       "    </tr>\n",
       "  </thead>\n",
       "  <tbody>\n",
       "    <tr>\n",
       "      <th>0</th>\n",
       "      <td>1479.0</td>\n",
       "      <td>2.0</td>\n",
       "      <td>3.0</td>\n",
       "      <td>3.0</td>\n",
       "      <td>2010.0</td>\n",
       "      <td>58.285434</td>\n",
       "      <td>6.0</td>\n",
       "      <td>289.0</td>\n",
       "      <td>725.0</td>\n",
       "      <td>4.0</td>\n",
       "      <td>...</td>\n",
       "      <td>1734.0</td>\n",
       "      <td>4350.0</td>\n",
       "      <td>24.0</td>\n",
       "      <td>83521.0</td>\n",
       "      <td>209525.0</td>\n",
       "      <td>1156.0</td>\n",
       "      <td>525625.0</td>\n",
       "      <td>2900.0</td>\n",
       "      <td>16.0</td>\n",
       "      <td>130500</td>\n",
       "    </tr>\n",
       "    <tr>\n",
       "      <th>1</th>\n",
       "      <td>2122.0</td>\n",
       "      <td>2.0</td>\n",
       "      <td>3.0</td>\n",
       "      <td>4.0</td>\n",
       "      <td>2009.0</td>\n",
       "      <td>43.000000</td>\n",
       "      <td>7.0</td>\n",
       "      <td>132.0</td>\n",
       "      <td>913.0</td>\n",
       "      <td>4.0</td>\n",
       "      <td>...</td>\n",
       "      <td>924.0</td>\n",
       "      <td>6391.0</td>\n",
       "      <td>28.0</td>\n",
       "      <td>17424.0</td>\n",
       "      <td>120516.0</td>\n",
       "      <td>528.0</td>\n",
       "      <td>833569.0</td>\n",
       "      <td>3652.0</td>\n",
       "      <td>16.0</td>\n",
       "      <td>220000</td>\n",
       "    </tr>\n",
       "    <tr>\n",
       "      <th>2</th>\n",
       "      <td>1057.0</td>\n",
       "      <td>1.0</td>\n",
       "      <td>3.0</td>\n",
       "      <td>1.0</td>\n",
       "      <td>2010.0</td>\n",
       "      <td>68.000000</td>\n",
       "      <td>5.0</td>\n",
       "      <td>0.0</td>\n",
       "      <td>1057.0</td>\n",
       "      <td>2.0</td>\n",
       "      <td>...</td>\n",
       "      <td>0.0</td>\n",
       "      <td>5285.0</td>\n",
       "      <td>10.0</td>\n",
       "      <td>0.0</td>\n",
       "      <td>0.0</td>\n",
       "      <td>0.0</td>\n",
       "      <td>1117249.0</td>\n",
       "      <td>2114.0</td>\n",
       "      <td>4.0</td>\n",
       "      <td>109000</td>\n",
       "    </tr>\n",
       "    <tr>\n",
       "      <th>3</th>\n",
       "      <td>1444.0</td>\n",
       "      <td>2.0</td>\n",
       "      <td>2.0</td>\n",
       "      <td>4.0</td>\n",
       "      <td>2010.0</td>\n",
       "      <td>73.000000</td>\n",
       "      <td>5.0</td>\n",
       "      <td>0.0</td>\n",
       "      <td>384.0</td>\n",
       "      <td>3.0</td>\n",
       "      <td>...</td>\n",
       "      <td>0.0</td>\n",
       "      <td>1920.0</td>\n",
       "      <td>15.0</td>\n",
       "      <td>0.0</td>\n",
       "      <td>0.0</td>\n",
       "      <td>0.0</td>\n",
       "      <td>147456.0</td>\n",
       "      <td>1152.0</td>\n",
       "      <td>9.0</td>\n",
       "      <td>174000</td>\n",
       "    </tr>\n",
       "    <tr>\n",
       "      <th>4</th>\n",
       "      <td>1445.0</td>\n",
       "      <td>2.0</td>\n",
       "      <td>2.0</td>\n",
       "      <td>3.0</td>\n",
       "      <td>2010.0</td>\n",
       "      <td>82.000000</td>\n",
       "      <td>6.0</td>\n",
       "      <td>0.0</td>\n",
       "      <td>676.0</td>\n",
       "      <td>2.0</td>\n",
       "      <td>...</td>\n",
       "      <td>0.0</td>\n",
       "      <td>4056.0</td>\n",
       "      <td>12.0</td>\n",
       "      <td>0.0</td>\n",
       "      <td>0.0</td>\n",
       "      <td>0.0</td>\n",
       "      <td>456976.0</td>\n",
       "      <td>1352.0</td>\n",
       "      <td>4.0</td>\n",
       "      <td>138500</td>\n",
       "    </tr>\n",
       "  </tbody>\n",
       "</table>\n",
       "<p>5 rows × 66 columns</p>\n",
       "</div>"
      ],
      "text/plain": [
       "   Gr Liv Area  Full Bath  Kitchen Qual  Mo Sold  Yr Sold  Lot Frontage  \\\n",
       "0       1479.0        2.0           3.0      3.0   2010.0     58.285434   \n",
       "1       2122.0        2.0           3.0      4.0   2009.0     43.000000   \n",
       "2       1057.0        1.0           3.0      1.0   2010.0     68.000000   \n",
       "3       1444.0        2.0           2.0      4.0   2010.0     73.000000   \n",
       "4       1445.0        2.0           2.0      3.0   2010.0     82.000000   \n",
       "\n",
       "   Overall Qual  Mas Vnr Area  Total Bsmt SF  Heating QC  ...  \\\n",
       "0           6.0         289.0          725.0         4.0  ...   \n",
       "1           7.0         132.0          913.0         4.0  ...   \n",
       "2           5.0           0.0         1057.0         2.0  ...   \n",
       "3           5.0           0.0          384.0         3.0  ...   \n",
       "4           6.0           0.0          676.0         2.0  ...   \n",
       "\n",
       "   Overall Qual Mas Vnr Area  Overall Qual Total Bsmt SF  \\\n",
       "0                     1734.0                      4350.0   \n",
       "1                      924.0                      6391.0   \n",
       "2                        0.0                      5285.0   \n",
       "3                        0.0                      1920.0   \n",
       "4                        0.0                      4056.0   \n",
       "\n",
       "   Overall Qual Heating QC  Mas Vnr Area^2  Mas Vnr Area Total Bsmt SF  \\\n",
       "0                     24.0         83521.0                    209525.0   \n",
       "1                     28.0         17424.0                    120516.0   \n",
       "2                     10.0             0.0                         0.0   \n",
       "3                     15.0             0.0                         0.0   \n",
       "4                     12.0             0.0                         0.0   \n",
       "\n",
       "   Mas Vnr Area Heating QC  Total Bsmt SF^2  Total Bsmt SF Heating QC  \\\n",
       "0                   1156.0         525625.0                    2900.0   \n",
       "1                    528.0         833569.0                    3652.0   \n",
       "2                      0.0        1117249.0                    2114.0   \n",
       "3                      0.0         147456.0                    1152.0   \n",
       "4                      0.0         456976.0                    1352.0   \n",
       "\n",
       "   Heating QC^2  SalePrice  \n",
       "0          16.0     130500  \n",
       "1          16.0     220000  \n",
       "2           4.0     109000  \n",
       "3           9.0     174000  \n",
       "4           4.0     138500  \n",
       "\n",
       "[5 rows x 66 columns]"
      ]
     },
     "execution_count": 24,
     "metadata": {},
     "output_type": "execute_result"
    }
   ],
   "source": [
    "# Separate objects for train and test data transformations\n",
    "poly_train = PolynomialFeatures(2, include_bias=False)\n",
    "poly_test = PolynomialFeatures(2, include_bias=False)\n",
    "\n",
    "poly_features = p_features\n",
    "\n",
    "# Create features\n",
    "train_poly = poly_train.fit_transform(train[poly_features])\n",
    "test_poly = poly_test.fit_transform(test[poly_features])\n",
    "\n",
    "# Create df's and view train poly features\n",
    "poly_df = pd.DataFrame(train_poly, columns=poly_train.get_feature_names(poly_features))\n",
    "poly_df_test = pd.DataFrame(test_poly, columns=poly_test.get_feature_names(poly_features))\n",
    "\n",
    "poly_df['SalePrice'] = train['SalePrice']\n",
    "poly_df.head()"
   ]
  },
  {
   "cell_type": "code",
   "execution_count": 25,
   "metadata": {},
   "outputs": [
    {
     "data": {
      "text/html": [
       "<div>\n",
       "<style scoped>\n",
       "    .dataframe tbody tr th:only-of-type {\n",
       "        vertical-align: middle;\n",
       "    }\n",
       "\n",
       "    .dataframe tbody tr th {\n",
       "        vertical-align: top;\n",
       "    }\n",
       "\n",
       "    .dataframe thead th {\n",
       "        text-align: right;\n",
       "    }\n",
       "</style>\n",
       "<table border=\"1\" class=\"dataframe\">\n",
       "  <thead>\n",
       "    <tr style=\"text-align: right;\">\n",
       "      <th></th>\n",
       "      <th>SalePrice</th>\n",
       "    </tr>\n",
       "  </thead>\n",
       "  <tbody>\n",
       "    <tr>\n",
       "      <th>Gr Liv Area Overall Qual</th>\n",
       "      <td>0.872971</td>\n",
       "    </tr>\n",
       "    <tr>\n",
       "      <th>Gr Liv Area Kitchen Qual</th>\n",
       "      <td>0.850393</td>\n",
       "    </tr>\n",
       "    <tr>\n",
       "      <th>Kitchen Qual Overall Qual</th>\n",
       "      <td>0.830700</td>\n",
       "    </tr>\n",
       "    <tr>\n",
       "      <th>Overall Qual^2</th>\n",
       "      <td>0.830575</td>\n",
       "    </tr>\n",
       "    <tr>\n",
       "      <th>Overall Qual Total Bsmt SF</th>\n",
       "      <td>0.828402</td>\n",
       "    </tr>\n",
       "    <tr>\n",
       "      <th>Gr Liv Area Total Bsmt SF</th>\n",
       "      <td>0.820087</td>\n",
       "    </tr>\n",
       "    <tr>\n",
       "      <th>Kitchen Qual Total Bsmt SF</th>\n",
       "      <td>0.812357</td>\n",
       "    </tr>\n",
       "    <tr>\n",
       "      <th>Overall Qual</th>\n",
       "      <td>0.803462</td>\n",
       "    </tr>\n",
       "    <tr>\n",
       "      <th>Yr Sold Overall Qual</th>\n",
       "      <td>0.803439</td>\n",
       "    </tr>\n",
       "  </tbody>\n",
       "</table>\n",
       "</div>"
      ],
      "text/plain": [
       "                            SalePrice\n",
       "Gr Liv Area Overall Qual     0.872971\n",
       "Gr Liv Area Kitchen Qual     0.850393\n",
       "Kitchen Qual Overall Qual    0.830700\n",
       "Overall Qual^2               0.830575\n",
       "Overall Qual Total Bsmt SF   0.828402\n",
       "Gr Liv Area Total Bsmt SF    0.820087\n",
       "Kitchen Qual Total Bsmt SF   0.812357\n",
       "Overall Qual                 0.803462\n",
       "Yr Sold Overall Qual         0.803439"
      ]
     },
     "execution_count": 25,
     "metadata": {},
     "output_type": "execute_result"
    }
   ],
   "source": [
    "# Find highly linear relationships to sale price\n",
    "mask = poly_df.corr()[['SalePrice']].loc[poly_train.get_feature_names(poly_features), :] > .8\n",
    "keepers = poly_df.corr()[['SalePrice']].loc[poly_train.get_feature_names(poly_features), :][mask].dropna().sort_values('SalePrice', ascending=False)\n",
    "keepers"
   ]
  },
  {
   "cell_type": "code",
   "execution_count": 26,
   "metadata": {},
   "outputs": [
    {
     "data": {
      "text/plain": [
       "Index(['Gr Liv Area Overall Qual', 'Gr Liv Area Kitchen Qual',\n",
       "       'Kitchen Qual Overall Qual', 'Overall Qual^2',\n",
       "       'Overall Qual Total Bsmt SF', 'Gr Liv Area Total Bsmt SF',\n",
       "       'Kitchen Qual Total Bsmt SF'],\n",
       "      dtype='object')"
      ]
     },
     "execution_count": 26,
     "metadata": {},
     "output_type": "execute_result"
    }
   ],
   "source": [
    "# Grab column names\n",
    "poly_cols = keepers.index\n",
    "poly_cols = poly_cols[:-2]\n",
    "poly_cols"
   ]
  },
  {
   "cell_type": "code",
   "execution_count": 27,
   "metadata": {},
   "outputs": [],
   "source": [
    "# Select above columns\n",
    "poly_df = poly_df.loc[:, poly_cols]\n",
    "poly_df_test = poly_df_test.loc[:, poly_cols]"
   ]
  },
  {
   "cell_type": "code",
   "execution_count": 28,
   "metadata": {},
   "outputs": [
    {
     "data": {
      "text/plain": [
       "(2049, 223)"
      ]
     },
     "execution_count": 28,
     "metadata": {},
     "output_type": "execute_result"
    }
   ],
   "source": [
    "# Ensure shape makes sense\n",
    "pd.merge(left=train, right=poly_df, left_index=True, right_index=True).shape"
   ]
  },
  {
   "cell_type": "code",
   "execution_count": 29,
   "metadata": {},
   "outputs": [
    {
     "data": {
      "text/plain": [
       "(2049, 216)"
      ]
     },
     "execution_count": 29,
     "metadata": {},
     "output_type": "execute_result"
    }
   ],
   "source": [
    "train.shape"
   ]
  },
  {
   "cell_type": "code",
   "execution_count": 30,
   "metadata": {},
   "outputs": [],
   "source": [
    "# Add poly features to datasets\n",
    "train = pd.merge(left=train, right=poly_df, left_index=True, right_index=True)\n",
    "test = pd.merge(left=test, right=poly_df_test, left_index=True, right_index=True)"
   ]
  },
  {
   "cell_type": "code",
   "execution_count": 31,
   "metadata": {},
   "outputs": [
    {
     "name": "stdout",
     "output_type": "stream",
     "text": [
      "(2049, 223)\n",
      "(878, 223)\n"
     ]
    }
   ],
   "source": [
    "# Check that number of columns is the same\n",
    "print(train.shape)\n",
    "print(test.shape)"
   ]
  },
  {
   "cell_type": "code",
   "execution_count": 32,
   "metadata": {},
   "outputs": [],
   "source": [
    "# Ensure columns are ordered consistently\n",
    "train_cols = [c for c in train.columns if c != 'SalePrice']\n",
    "test_cols = [c for c in test.columns if c != 'Id']\n",
    "\n",
    "for c1, c2 in zip(train_cols, test_cols):\n",
    "    if c1 != c2:\n",
    "        print(c1,c2)    "
   ]
  },
  {
   "cell_type": "markdown",
   "metadata": {},
   "source": [
    "## Save engineered dataset"
   ]
  },
  {
   "cell_type": "code",
   "execution_count": 33,
   "metadata": {},
   "outputs": [],
   "source": [
    "train.to_csv('../datasets/clean/train_engineered.csv', index=False)"
   ]
  },
  {
   "cell_type": "code",
   "execution_count": 34,
   "metadata": {},
   "outputs": [],
   "source": [
    "test.to_csv('../datasets/clean/test_engineered.csv', index=False)"
   ]
  }
 ],
 "metadata": {
  "kernelspec": {
   "display_name": "Python 3",
   "language": "python",
   "name": "python3"
  },
  "language_info": {
   "codemirror_mode": {
    "name": "ipython",
    "version": 3
   },
   "file_extension": ".py",
   "mimetype": "text/x-python",
   "name": "python",
   "nbconvert_exporter": "python",
   "pygments_lexer": "ipython3",
   "version": "3.7.7"
  }
 },
 "nbformat": 4,
 "nbformat_minor": 4
}
