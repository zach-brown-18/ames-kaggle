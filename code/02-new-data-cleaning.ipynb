{
 "cells": [
  {
   "cell_type": "markdown",
   "metadata": {},
   "source": [
    "# Cleaning and EDA"
   ]
  },
  {
   "cell_type": "code",
   "execution_count": 1,
   "metadata": {},
   "outputs": [],
   "source": [
    "import pandas as pd\n",
    "import numpy as np\n",
    "import matplotlib.pyplot as plt\n",
    "import seaborn as sns"
   ]
  },
  {
   "cell_type": "code",
   "execution_count": 2,
   "metadata": {},
   "outputs": [],
   "source": [
    "import sys\n",
    "sys.path.insert(0, '/Users/coconut/Desktop/zach/GA/Submissions/')\n",
    "import eda"
   ]
  },
  {
   "cell_type": "code",
   "execution_count": 3,
   "metadata": {},
   "outputs": [],
   "source": [
    "from matplotlib import rcParams\n",
    "rcParams['figure.figsize'] = (12.0, 9.0)"
   ]
  },
  {
   "cell_type": "code",
   "execution_count": 4,
   "metadata": {},
   "outputs": [],
   "source": [
    "# Read dataset\n",
    "test = pd.read_csv('../datasets/test.csv')\n",
    "train = pd.read_csv('../datasets/clean/train_clean.csv')"
   ]
  },
  {
   "cell_type": "code",
   "execution_count": 5,
   "metadata": {},
   "outputs": [
    {
     "data": {
      "text/plain": [
       "(2049, 231)"
      ]
     },
     "execution_count": 5,
     "metadata": {},
     "output_type": "execute_result"
    }
   ],
   "source": [
    "train.shape"
   ]
  },
  {
   "cell_type": "code",
   "execution_count": 6,
   "metadata": {},
   "outputs": [
    {
     "data": {
      "text/plain": [
       "(878, 80)"
      ]
     },
     "execution_count": 6,
     "metadata": {},
     "output_type": "execute_result"
    }
   ],
   "source": [
    "test.shape"
   ]
  },
  {
   "cell_type": "markdown",
   "metadata": {},
   "source": [
    "___"
   ]
  },
  {
   "cell_type": "code",
   "execution_count": 7,
   "metadata": {},
   "outputs": [],
   "source": [
    "to_drop = ['Lot Area', '1st Flr SF', 'Garage Yr Blt', 'TotRms AbvGrd', 'Garage Cars', 'Year Built', 'Year Remod/Add']\n",
    "test.drop(columns=to_drop, inplace=True)"
   ]
  },
  {
   "cell_type": "markdown",
   "metadata": {},
   "source": [
    "## Investigate null values"
   ]
  },
  {
   "cell_type": "code",
   "execution_count": 8,
   "metadata": {},
   "outputs": [],
   "source": [
    "def peek_column(col_title):\n",
    "    print('Unique Values:')\n",
    "    print(test[col_title].unique())\n",
    "    print()\n",
    "    print('Value Counts:')\n",
    "    print(test[col_title].value_counts())"
   ]
  },
  {
   "cell_type": "code",
   "execution_count": 9,
   "metadata": {},
   "outputs": [],
   "source": [
    "def peek_columns(cols):\n",
    "    for col in cols:\n",
    "        peek_column(col)\n",
    "        print()"
   ]
  },
  {
   "cell_type": "markdown",
   "metadata": {},
   "source": [
    "## Convert ordinal features to numerical"
   ]
  },
  {
   "cell_type": "code",
   "execution_count": 10,
   "metadata": {},
   "outputs": [],
   "source": [
    "map1 = {'Ex':4, 'Gd':3, 'TA':2, 'Fa':1, 'Po':0}\n",
    "map2 = {'Ex':5, 'Gd':4, 'TA':3, 'Fa':2, 'Po':1, np.nan:0}"
   ]
  },
  {
   "cell_type": "code",
   "execution_count": 11,
   "metadata": {},
   "outputs": [],
   "source": [
    "ordinal_mapping = {\n",
    "    'Exter Cond': map1,\n",
    "    'Heating QC': map1,\n",
    "    'Kitchen Qual': map1,\n",
    "    'Bsmt Qual': map2,\n",
    "    'Bsmt Cond': map2,\n",
    "    'Garage Qual': map2\n",
    "}"
   ]
  },
  {
   "cell_type": "code",
   "execution_count": 12,
   "metadata": {},
   "outputs": [],
   "source": [
    "# Credit to Kovacs for this approach\n",
    "for col, mapping in ordinal_mapping.items():\n",
    "    test[col] = test[col].map(mapping)"
   ]
  },
  {
   "cell_type": "markdown",
   "metadata": {},
   "source": [
    "---\n",
    "## Convert Type"
   ]
  },
  {
   "cell_type": "code",
   "execution_count": 13,
   "metadata": {},
   "outputs": [],
   "source": [
    "# Ensure no nulls\n",
    "test['MS SubClass'].fillna(0, inplace=True)\n",
    "\n",
    "# Make string then convert to dummies\n",
    "test['MS SubClass'] = test['MS SubClass'].astype(str)\n",
    "\n",
    "test = pd.get_dummies(test, columns=['MS SubClass']).drop(columns='MS SubClass_20')"
   ]
  },
  {
   "cell_type": "markdown",
   "metadata": {},
   "source": [
    "## Pool-Related Features"
   ]
  },
  {
   "cell_type": "code",
   "execution_count": 14,
   "metadata": {},
   "outputs": [],
   "source": [
    "# Engineer 'Has Pool' feature\n",
    "test['Has Pool'] = test['Pool Area'].map(lambda x: 1 if x >= 1 else 0)\n",
    "test.drop(columns = ['Pool QC', 'Pool Area'], inplace=True)"
   ]
  },
  {
   "cell_type": "code",
   "execution_count": 15,
   "metadata": {},
   "outputs": [
    {
     "data": {
      "text/plain": [
       "(878, 85)"
      ]
     },
     "execution_count": 15,
     "metadata": {},
     "output_type": "execute_result"
    }
   ],
   "source": [
    "test.shape"
   ]
  },
  {
   "cell_type": "markdown",
   "metadata": {},
   "source": [
    "## Misc Feature"
   ]
  },
  {
   "cell_type": "code",
   "execution_count": 16,
   "metadata": {},
   "outputs": [],
   "source": [
    "# Shed is the only value with high enough frequency to contribute to the model\n",
    "test['Has Shed'] = test['Misc Feature'].map(lambda x: 1 if x=='Shed' else 0)\n",
    "test.drop(columns = ['Misc Feature'], inplace=True)"
   ]
  },
  {
   "cell_type": "code",
   "execution_count": 17,
   "metadata": {},
   "outputs": [
    {
     "data": {
      "text/plain": [
       "(878, 85)"
      ]
     },
     "execution_count": 17,
     "metadata": {},
     "output_type": "execute_result"
    }
   ],
   "source": [
    "test.shape"
   ]
  },
  {
   "cell_type": "markdown",
   "metadata": {},
   "source": [
    "## Alley"
   ]
  },
  {
   "cell_type": "code",
   "execution_count": 18,
   "metadata": {},
   "outputs": [],
   "source": [
    "# Add 'Has Alley' and 'Alley Pave' features\n",
    "test['Has Alley'] = test['Alley'].map(lambda x: 1 if (x == 'Pave') | (x == 'Grvl') else 0)\n",
    "test['Alley Pave'] = test['Has Alley'].map({1:1, 0:0})\n",
    "test.drop(columns = ['Alley'], inplace=True)"
   ]
  },
  {
   "cell_type": "code",
   "execution_count": 19,
   "metadata": {},
   "outputs": [
    {
     "data": {
      "text/plain": [
       "(878, 86)"
      ]
     },
     "execution_count": 19,
     "metadata": {},
     "output_type": "execute_result"
    }
   ],
   "source": [
    "test.shape"
   ]
  },
  {
   "cell_type": "markdown",
   "metadata": {},
   "source": [
    "## Fence"
   ]
  },
  {
   "cell_type": "code",
   "execution_count": 20,
   "metadata": {},
   "outputs": [],
   "source": [
    "# Dummify Fence feature\n",
    "test = pd.get_dummies(test, columns=['Fence']).drop(columns='Fence_MnWw')"
   ]
  },
  {
   "cell_type": "code",
   "execution_count": 21,
   "metadata": {},
   "outputs": [
    {
     "data": {
      "text/plain": [
       "(878, 88)"
      ]
     },
     "execution_count": 21,
     "metadata": {},
     "output_type": "execute_result"
    }
   ],
   "source": [
    "test.shape"
   ]
  },
  {
   "cell_type": "markdown",
   "metadata": {},
   "source": [
    "## Fireplace Qu"
   ]
  },
  {
   "cell_type": "code",
   "execution_count": 22,
   "metadata": {},
   "outputs": [],
   "source": [
    "# Dummify Fireplace Qu feature\n",
    "test = pd.get_dummies(test, columns=['Fireplace Qu']).drop(columns='Fireplace Qu_Ex')"
   ]
  },
  {
   "cell_type": "code",
   "execution_count": 23,
   "metadata": {},
   "outputs": [
    {
     "data": {
      "text/plain": [
       "(878, 91)"
      ]
     },
     "execution_count": 23,
     "metadata": {},
     "output_type": "execute_result"
    }
   ],
   "source": [
    "test.shape"
   ]
  },
  {
   "cell_type": "markdown",
   "metadata": {},
   "source": [
    "## Lot frontage"
   ]
  },
  {
   "cell_type": "code",
   "execution_count": 24,
   "metadata": {},
   "outputs": [],
   "source": [
    "# Set Lot Frontage = 0 for Lot Config = inside, corner and cul-de-sac\n",
    "na_lot_frontage = test['Lot Frontage'].isna()\n",
    "lot_config_to_drop = test['Lot Config'].map(lambda x: 1 if x in ['CulDSac', 'Corner', 'Inside'] else 0)\n",
    "test.loc[na_lot_frontage & lot_config_to_drop, 'Lot Frontage'] = 0"
   ]
  },
  {
   "cell_type": "code",
   "execution_count": 25,
   "metadata": {},
   "outputs": [],
   "source": [
    "# Set the remaining missing Lot Frontage values equal to the mean\n",
    "avg_frontage = test['Lot Frontage'].mean()\n",
    "test.loc[na_lot_frontage, 'Lot Frontage'] = avg_frontage"
   ]
  },
  {
   "cell_type": "markdown",
   "metadata": {},
   "source": [
    "## Convert features to binary"
   ]
  },
  {
   "cell_type": "code",
   "execution_count": 26,
   "metadata": {},
   "outputs": [
    {
     "name": "stdout",
     "output_type": "stream",
     "text": [
      "Street\n",
      "['Pave' 'Grvl']\n",
      "Utilities\n",
      "['AllPub' 'NoSewr']\n",
      "Central Air\n",
      "['N' 'Y']\n"
     ]
    }
   ],
   "source": [
    "# Identify binary columns\n",
    "for col in test:\n",
    "    if (len(test[col].unique()) == 2) & (type(test[col][0]) is str):\n",
    "        print(col)\n",
    "        print(test[col].unique())"
   ]
  },
  {
   "cell_type": "code",
   "execution_count": 27,
   "metadata": {},
   "outputs": [],
   "source": [
    "# Central Air\n",
    "test['Central Air'] = test['Central Air'].map({'Y':1, 'N':0})"
   ]
  },
  {
   "cell_type": "code",
   "execution_count": 28,
   "metadata": {},
   "outputs": [],
   "source": [
    "# Street feature has all 2049 values. Engineer new column to indicate paved or gravel street\n",
    "test['Street Pave'] = test['Street'].map({'Pave':1, 'Grvl':0})\n",
    "test.drop(columns = ['Street'], inplace=True)"
   ]
  },
  {
   "cell_type": "code",
   "execution_count": 29,
   "metadata": {},
   "outputs": [
    {
     "data": {
      "text/plain": [
       "(878, 91)"
      ]
     },
     "execution_count": 29,
     "metadata": {},
     "output_type": "execute_result"
    }
   ],
   "source": [
    "test.shape"
   ]
  },
  {
   "cell_type": "markdown",
   "metadata": {},
   "source": [
    "## Convert remaining categorical features to dummies"
   ]
  },
  {
   "cell_type": "code",
   "execution_count": 30,
   "metadata": {},
   "outputs": [],
   "source": [
    "# Aggregate remaining nulls\n",
    "nulls = eda.investigate_null(test)"
   ]
  },
  {
   "cell_type": "code",
   "execution_count": 31,
   "metadata": {},
   "outputs": [],
   "source": [
    "# Extract categorical columns\n",
    "col_types = {col:type(test[col][0]) for col in nulls['column']}\n",
    "str_cols = [col for col,t in col_types.items() if t is str]"
   ]
  },
  {
   "cell_type": "code",
   "execution_count": 32,
   "metadata": {},
   "outputs": [],
   "source": [
    "# Dummify\n",
    "test = pd.get_dummies(test, columns=str_cols)"
   ]
  },
  {
   "cell_type": "code",
   "execution_count": 33,
   "metadata": {},
   "outputs": [],
   "source": [
    "# Impute 0 to all remaining missing values\n",
    "test.fillna(0, inplace=True)"
   ]
  },
  {
   "cell_type": "code",
   "execution_count": 34,
   "metadata": {},
   "outputs": [
    {
     "data": {
      "text/html": [
       "<div>\n",
       "<style scoped>\n",
       "    .dataframe tbody tr th:only-of-type {\n",
       "        vertical-align: middle;\n",
       "    }\n",
       "\n",
       "    .dataframe tbody tr th {\n",
       "        vertical-align: top;\n",
       "    }\n",
       "\n",
       "    .dataframe thead th {\n",
       "        text-align: right;\n",
       "    }\n",
       "</style>\n",
       "<table border=\"1\" class=\"dataframe\">\n",
       "  <thead>\n",
       "    <tr style=\"text-align: right;\">\n",
       "      <th></th>\n",
       "      <th>column</th>\n",
       "      <th>null_count</th>\n",
       "    </tr>\n",
       "  </thead>\n",
       "  <tbody>\n",
       "  </tbody>\n",
       "</table>\n",
       "</div>"
      ],
      "text/plain": [
       "Empty DataFrame\n",
       "Columns: [column, null_count]\n",
       "Index: []"
      ]
     },
     "execution_count": 34,
     "metadata": {},
     "output_type": "execute_result"
    }
   ],
   "source": [
    "# No null values left\n",
    "eda.investigate_null(test)"
   ]
  },
  {
   "cell_type": "markdown",
   "metadata": {},
   "source": [
    "## Converting nominal and ordinal features"
   ]
  },
  {
   "cell_type": "code",
   "execution_count": 35,
   "metadata": {},
   "outputs": [],
   "source": [
    "# Isolate columns of type string\n",
    "col_types = {col:type(test[col][0]) for col in test.columns}\n",
    "str_cols = [col for col,t in col_types.items() if t is str]"
   ]
  },
  {
   "cell_type": "code",
   "execution_count": 36,
   "metadata": {},
   "outputs": [],
   "source": [
    "test = pd.get_dummies(test, columns=str_cols).reset_index(drop=True)"
   ]
  },
  {
   "cell_type": "markdown",
   "metadata": {},
   "source": [
    "## Ensure train and test datasets are of same form"
   ]
  },
  {
   "cell_type": "code",
   "execution_count": 37,
   "metadata": {},
   "outputs": [
    {
     "data": {
      "text/plain": [
       "250"
      ]
     },
     "execution_count": 37,
     "metadata": {},
     "output_type": "execute_result"
    }
   ],
   "source": [
    "len(test.columns)"
   ]
  },
  {
   "cell_type": "code",
   "execution_count": 38,
   "metadata": {},
   "outputs": [
    {
     "data": {
      "text/plain": [
       "231"
      ]
     },
     "execution_count": 38,
     "metadata": {},
     "output_type": "execute_result"
    }
   ],
   "source": [
    "len(train.columns)"
   ]
  },
  {
   "cell_type": "code",
   "execution_count": 39,
   "metadata": {},
   "outputs": [],
   "source": [
    "# Add salvage and severely damaged columns to new data if not already there\n",
    "if 'Functional_Sal' not in test.columns:\n",
    "    test['Functional_Sal'] = 0\n",
    "if 'Functional_Sev' not in test.columns:\n",
    "    test['Functional_Sev'] = 0"
   ]
  },
  {
   "cell_type": "markdown",
   "metadata": {},
   "source": [
    "**Train data**"
   ]
  },
  {
   "cell_type": "code",
   "execution_count": 40,
   "metadata": {},
   "outputs": [],
   "source": [
    "# Identify columns to drop in training dataset\n",
    "to_drop = []\n",
    "for col in train.columns:\n",
    "    if col not in test.columns:\n",
    "        to_drop.append(col)"
   ]
  },
  {
   "cell_type": "code",
   "execution_count": 41,
   "metadata": {},
   "outputs": [
    {
     "data": {
      "text/plain": [
       "['SalePrice',\n",
       " 'MS SubClass_150',\n",
       " 'Utilities_NoSeWa',\n",
       " 'Neighborhood_GrnHill',\n",
       " 'Neighborhood_Landmrk',\n",
       " 'Condition 2_PosN',\n",
       " 'Condition 2_RRAe',\n",
       " 'Condition 2_RRAn',\n",
       " 'Condition 2_RRNn',\n",
       " 'Roof Matl_Membran',\n",
       " 'Exterior 1st_CBlock',\n",
       " 'Exterior 1st_ImStucc',\n",
       " 'Exterior 1st_Stone',\n",
       " 'Exterior 2nd_Stone',\n",
       " 'Heating_OthW',\n",
       " 'Heating_Wall']"
      ]
     },
     "execution_count": 41,
     "metadata": {},
     "output_type": "execute_result"
    }
   ],
   "source": [
    "to_drop"
   ]
  },
  {
   "cell_type": "code",
   "execution_count": 42,
   "metadata": {},
   "outputs": [],
   "source": [
    "# Keep SalePrice\n",
    "to_drop = to_drop[1:]"
   ]
  },
  {
   "cell_type": "code",
   "execution_count": 43,
   "metadata": {},
   "outputs": [],
   "source": [
    "train.drop(columns = to_drop, inplace = True)"
   ]
  },
  {
   "cell_type": "markdown",
   "metadata": {},
   "source": [
    "**Same process for new data**"
   ]
  },
  {
   "cell_type": "code",
   "execution_count": 44,
   "metadata": {},
   "outputs": [],
   "source": [
    "# Identify columns to drop in testing dataset\n",
    "to_drop = []\n",
    "for col in test.columns:\n",
    "    if col not in train.columns:\n",
    "        to_drop.append(col)"
   ]
  },
  {
   "cell_type": "code",
   "execution_count": 45,
   "metadata": {},
   "outputs": [
    {
     "data": {
      "text/plain": [
       "'Id'"
      ]
     },
     "execution_count": 45,
     "metadata": {},
     "output_type": "execute_result"
    }
   ],
   "source": [
    "# Keep Id column for scoring\n",
    "to_drop.pop(0)"
   ]
  },
  {
   "cell_type": "code",
   "execution_count": 46,
   "metadata": {},
   "outputs": [
    {
     "data": {
      "text/plain": [
       "PID                     628899719478\n",
       "Garage Finish_Fin                218\n",
       "Garage Cond_Gd                     3\n",
       "Garage Type_CarPort                4\n",
       "Bsmt Exposure_Mn                  76\n",
       "BsmtFin Type 1_LwQ                52\n",
       "BsmtFin Type 2_GLQ                11\n",
       "Mas Vnr Type_BrkCmn               12\n",
       "Mas Vnr Type_CBlock                1\n",
       "Electrical_FuseP                   1\n",
       "Lot Shape_IR1                    286\n",
       "Land Contour_Bnk                  36\n",
       "Utilities_AllPub                 877\n",
       "Lot Config_Corner                163\n",
       "Land Slope_Gtl                   835\n",
       "Neighborhood_Blmngtn               6\n",
       "Condition 1_Artery                22\n",
       "Bldg Type_1Fam                   724\n",
       "House Style_1.5Fin                96\n",
       "Roof Style_Flat                    7\n",
       "Roof Matl_CompShg                861\n",
       "Roof Matl_Metal                    1\n",
       "Roof Matl_Roll                     1\n",
       "Exterior 1st_AsbShng              11\n",
       "Exterior 1st_PreCast               1\n",
       "Exterior 2nd_AsbShng              10\n",
       "Exterior 2nd_Other                 1\n",
       "Exterior 2nd_PreCast               1\n",
       "Exter Qual_Ex                     25\n",
       "Foundation_BrkTil                 90\n",
       "Heating_Floor                      1\n",
       "Heating_GasA                     866\n",
       "Functional_Maj1                    7\n",
       "Paved Drive_N                     65\n",
       "Sale Type_COD                     24\n",
       "Sale Type_VWD                      1\n",
       "dtype: int64"
      ]
     },
     "execution_count": 46,
     "metadata": {},
     "output_type": "execute_result"
    }
   ],
   "source": [
    "# Peek columns to drop\n",
    "test[to_drop].sum()"
   ]
  },
  {
   "cell_type": "code",
   "execution_count": 47,
   "metadata": {},
   "outputs": [],
   "source": [
    "test.drop(columns = to_drop, inplace = True)"
   ]
  },
  {
   "cell_type": "code",
   "execution_count": 48,
   "metadata": {},
   "outputs": [
    {
     "data": {
      "text/plain": [
       "216"
      ]
     },
     "execution_count": 48,
     "metadata": {},
     "output_type": "execute_result"
    }
   ],
   "source": [
    "len(test.columns)"
   ]
  },
  {
   "cell_type": "code",
   "execution_count": 49,
   "metadata": {},
   "outputs": [
    {
     "data": {
      "text/plain": [
       "216"
      ]
     },
     "execution_count": 49,
     "metadata": {},
     "output_type": "execute_result"
    }
   ],
   "source": [
    "len(train.columns)"
   ]
  },
  {
   "cell_type": "code",
   "execution_count": 50,
   "metadata": {},
   "outputs": [],
   "source": [
    "# Order dataframe columns consistently\n",
    "train.sort_index(axis=1, inplace=True)\n",
    "test.sort_index(axis=1, inplace=True)"
   ]
  },
  {
   "cell_type": "markdown",
   "metadata": {},
   "source": [
    "## Save clean dataset"
   ]
  },
  {
   "cell_type": "code",
   "execution_count": 51,
   "metadata": {},
   "outputs": [],
   "source": [
    "# Train\n",
    "train.to_csv('../datasets/clean/train_clean.csv', index=False)"
   ]
  },
  {
   "cell_type": "code",
   "execution_count": 52,
   "metadata": {},
   "outputs": [],
   "source": [
    "# Test\n",
    "test.to_csv('../datasets/clean/test_clean.csv', index=False)"
   ]
  }
 ],
 "metadata": {
  "kernelspec": {
   "display_name": "Python 3",
   "language": "python",
   "name": "python3"
  },
  "language_info": {
   "codemirror_mode": {
    "name": "ipython",
    "version": 3
   },
   "file_extension": ".py",
   "mimetype": "text/x-python",
   "name": "python",
   "nbconvert_exporter": "python",
   "pygments_lexer": "ipython3",
   "version": "3.7.7"
  }
 },
 "nbformat": 4,
 "nbformat_minor": 4
}
